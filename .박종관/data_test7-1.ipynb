{
 "cells": [
  {
   "cell_type": "code",
   "execution_count": null,
   "metadata": {},
   "outputs": [],
   "source": [
    "import plotly.express as px"
   ]
  },
  {
   "cell_type": "code",
   "execution_count": null,
   "metadata": {},
   "outputs": [],
   "source": [
    "import json\n",
    "with open('./geojson/서울_행정동_경계_2017.geojson') as j:\n",
    "    seoul_geo = json.load(j)"
   ]
  },
  {
   "cell_type": "code",
   "execution_count": null,
   "metadata": {},
   "outputs": [],
   "source": [
    "import pandas as pd\n",
    "from os import listdir\n",
    "\n",
    "bigdf = pd.DataFrame()\n",
    "\n",
    "filenames = [\n",
    "    \"../참고 데이터/csv/large-datasets/2022/생활이동_행정동_202201/\" + f\n",
    "    for f in listdir(\"../참고 데이터/csv/large-datasets/2022/생활이동_행정동_202201/\")\n",
    "]\n",
    "\n",
    "for file in filenames[:]:\n",
    "    with open(file, encoding='cp949') as f:\n",
    "        data = pd.read_csv(f)\n",
    "\n",
    "    data = data.drop(data[data['출발 행정동 코드'] == data['도착 행정동 코드']].index)\n",
    "    # data.loc[data['이동인구(합)'] == '*', '이동인구(합)'] = 0/\n",
    "    data['이동인구(합)'] = data['이동인구(합)'].replace(to_replace=\"*\", value=0)\n",
    "    data['이동인구(합)'] = data['이동인구(합)'].astype(float)\n",
    "\n",
    "    data = data.drop(data[(data['출발 행정동 코드'] < 1101053)].index)\n",
    "    data = data.drop(data[(data['출발 행정동 코드'] > 1125074)].index)\n",
    "    data = data.drop(data[(data['도착 행정동 코드'] < 1101053)].index)\n",
    "    data = data.drop(data[(data['도착 행정동 코드'] > 1125074)].index)\n",
    "\n",
    "    data2point5 = pd.DataFrame(data.groupby(['도착 행정동 코드'])['이동인구(합)'].sum())\n",
    "    data2point5 = data2point5.reset_index()\n",
    "    # data2point5['도착 행정동 코드'] = str(data2point5['도착 행정동 코드'])\n",
    "    # data2point5.sort_values('도착 행정동 코드')\n",
    "    data2point5['도착 행정동 코드'] = data2point5['도착 행정동 코드'].astype(str)\n",
    "\n",
    "    new_row = data2point5\n",
    "    new_row['time'] = int(file.split(\"/\")[6].split(\"_\")[3][0:2])\n",
    "    bigdf = pd.concat([bigdf, new_row])\n",
    "\n",
    "bigdf"
   ]
  },
  {
   "cell_type": "code",
   "execution_count": null,
   "metadata": {},
   "outputs": [],
   "source": [
    "fig = px.choropleth_mapbox(bigdf,\n",
    "                           geojson=seoul_geo,\n",
    "                           locations='도착 행정동 코드',\n",
    "                           color='이동인구(합)',\n",
    "                           color_continuous_scale=\"Viridis\",\n",
    "                           featureidkey=\"properties.adm_cd\",\n",
    "                           mapbox_style=\"carto-positron\",\n",
    "                           opacity=0.5,\n",
    "                           zoom=10,\n",
    "                           center={\n",
    "                               \"lat\": 37.559,\n",
    "                               \"lon\": 126.963\n",
    "                           },\n",
    "                           labels={'이동인구(합)':'label'},\n",
    "                           animation_frame='time'\n",
    "                           )\n",
    "\n",
    "fig.write_html('../작업 결과물/행정동_시간별지도(2022년1월).html')\n",
    "# fig.show() # 파일이 너무 커집니다!!"
   ]
  }
 ],
 "metadata": {
  "kernelspec": {
   "display_name": "Python 3.10.6 ('base')",
   "language": "python",
   "name": "python3"
  },
  "language_info": {
   "codemirror_mode": {
    "name": "ipython",
    "version": 3
   },
   "file_extension": ".py",
   "mimetype": "text/x-python",
   "name": "python",
   "nbconvert_exporter": "python",
   "pygments_lexer": "ipython3",
   "version": "3.10.6"
  },
  "orig_nbformat": 4,
  "vscode": {
   "interpreter": {
    "hash": "d4d1e4263499bec80672ea0156c357c1ee493ec2b1c70f0acce89fc37c4a6abe"
   }
  }
 },
 "nbformat": 4,
 "nbformat_minor": 2
}
