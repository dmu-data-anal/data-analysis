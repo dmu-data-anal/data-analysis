{
 "cells": [
  {
   "cell_type": "markdown",
   "metadata": {},
   "source": [
    "# 행정동 단위의 그림"
   ]
  },
  {
   "cell_type": "code",
   "execution_count": 1,
   "metadata": {},
   "outputs": [
    {
     "ename": "NameError",
     "evalue": "name 'pd' is not defined",
     "output_type": "error",
     "traceback": [
      "\u001b[0;31m---------------------------------------------------------------------------\u001b[0m",
      "\u001b[0;31mNameError\u001b[0m                                 Traceback (most recent call last)",
      "Cell \u001b[0;32mIn [1], line 5\u001b[0m\n\u001b[1;32m      1\u001b[0m \u001b[39mwith\u001b[39;00m \u001b[39mopen\u001b[39m(\n\u001b[1;32m      2\u001b[0m         \u001b[39m\"\u001b[39m\u001b[39m../참고 데이터/csv/large-datasets/2022/생활이동_행정동_202201/생활이동_행정동_2022.01_00시.csv\u001b[39m\u001b[39m\"\u001b[39m,\n\u001b[1;32m      3\u001b[0m         encoding\u001b[39m=\u001b[39m\u001b[39m\"\u001b[39m\u001b[39mcp949\u001b[39m\u001b[39m\"\u001b[39m) \u001b[39mas\u001b[39;00m f:\n\u001b[1;32m      4\u001b[0m     \u001b[39m# data = csv.reader(f)\u001b[39;00m\n\u001b[0;32m----> 5\u001b[0m     data \u001b[39m=\u001b[39m pd\u001b[39m.\u001b[39mread_csv(f)\n\u001b[1;32m      7\u001b[0m data\u001b[39m.\u001b[39msort_values(by\u001b[39m=\u001b[39m\u001b[39m'\u001b[39m\u001b[39m평균 이동 시간(분)\u001b[39m\u001b[39m'\u001b[39m)[::\u001b[39m-\u001b[39m\u001b[39m1\u001b[39m]\u001b[39m.\u001b[39mhead(\u001b[39m20\u001b[39m)\n\u001b[1;32m      8\u001b[0m \u001b[39m# for row in data:\u001b[39;00m\n\u001b[1;32m      9\u001b[0m \u001b[39m# print(row)\u001b[39;00m\n",
      "\u001b[0;31mNameError\u001b[0m: name 'pd' is not defined"
     ]
    }
   ],
   "source": [
    "with open(\n",
    "        \"../참고 데이터/csv/large-datasets/2022/생활이동_행정동_202201/생활이동_행정동_2022.01_00시.csv\",\n",
    "        encoding=\"cp949\") as f:\n",
    "    # data = csv.reader(f)\n",
    "    data = pd.read_csv(f)\n",
    "\n",
    "data.sort_values(by='평균 이동 시간(분)')[::-1].head(20)\n",
    "# for row in data:\n",
    "# print(row)\n"
   ]
  }
 ],
 "metadata": {
  "kernelspec": {
   "display_name": "Python 3.10.6 ('base')",
   "language": "python",
   "name": "python3"
  },
  "language_info": {
   "codemirror_mode": {
    "name": "ipython",
    "version": 3
   },
   "file_extension": ".py",
   "mimetype": "text/x-python",
   "name": "python",
   "nbconvert_exporter": "python",
   "pygments_lexer": "ipython3",
   "version": "3.10.6"
  },
  "orig_nbformat": 4,
  "vscode": {
   "interpreter": {
    "hash": "d4d1e4263499bec80672ea0156c357c1ee493ec2b1c70f0acce89fc37c4a6abe"
   }
  }
 },
 "nbformat": 4,
 "nbformat_minor": 2
}
