{
 "cells": [
  {
   "cell_type": "code",
   "execution_count": 3,
   "metadata": {},
   "outputs": [],
   "source": [
    "import matplotlib.pyplot as plt\n",
    "import csv\n",
    "import pandas as pd\n",
    "\n",
    "import json\n",
    "import folium\n",
    "\n",
    "with open('./geojson/new.geojson') as j:\n",
    "    seoul_geo = json.load(j)\n",
    "\n",
    "from os import listdir\n",
    "filenames = [\n",
    "    \"../이은준/\" + f\n",
    "    for f in listdir(\"../이은준/\")\n",
    "    if f.endswith(\".csv\")\n",
    "]\n",
    "\n",
    "for file in filenames:\n",
    "    with open(file, encoding='cp949') as f:\n",
    "        data = pd.read_csv(f)\n",
    "\n",
    "    data2 = data[[\n",
    "        '종로구 추가', '중구 추가', '용산구 추가', '성동구 추가', '광진구 추가', '동대문구 추가', '중랑구 추가',\n",
    "        '성북구 추가', '강북구 추가', '도봉구 추가', '노원구 추가', '은평구 추가', '서대문구 추가', '마포구 추가',\n",
    "        '양천구 추가', '강서구 추가', '구로구 추가', '금천구 추가', '영등포구 추가', '동작구 추가', '관악구 추가',\n",
    "        '서추구 추가', '강남구 추가', '송파구 추가', '강동구 추가'\n",
    "    ]].sum()\n",
    "\n",
    "    # df.columns = [\"group\", \"val_1\", \"val_2\"]\n",
    "    data2.index = [\n",
    "        '종로구', '중구', '용산구', '성동구', '광진구', '동대문구', '중랑구',\n",
    "        '성북구', '강북구', '도봉구', '노원구', '은평구', '서대문구', '마포구',\n",
    "        '양천구', '강서구', '구로구', '금천구', '영등포구', '동작구', '관악구',\n",
    "        '서초구', '강남구', '송파구', '강동구'\n",
    "    ]\n",
    "    data2.reset_index()\n",
    "\n",
    "    m = folium.Map(\n",
    "        location=[37.559819, 126.963895],\n",
    "        zoom_start=11,\n",
    "        tiles='cartodbpositron'\n",
    "    )\n",
    "\n",
    "    folium.Choropleth(\n",
    "        geo_data=seoul_geo,\n",
    "        name=\"choropleth\",\n",
    "        data=data2,\n",
    "        columns=[\"index\",\"0\"],\n",
    "        key_on=\"properties.name\",\n",
    "        fill_color=\"OrRd\",\n",
    "        fill_opacity=0.7,\n",
    "        line_opacity=.1,\n",
    "        legend_name=\"레게노\",\n",
    "    ).add_to(m)\n",
    "\n",
    "    folium.LayerControl().add_to(m)\n",
    "    \n",
    "    # m.save(f\"{file}.html\") # 이은준 폴더에 바로 저장되니 조심!!\n"
   ]
  }
 ],
 "metadata": {
  "kernelspec": {
   "display_name": "Python 3.10.6 ('base')",
   "language": "python",
   "name": "python3"
  },
  "language_info": {
   "codemirror_mode": {
    "name": "ipython",
    "version": 3
   },
   "file_extension": ".py",
   "mimetype": "text/x-python",
   "name": "python",
   "nbconvert_exporter": "python",
   "pygments_lexer": "ipython3",
   "version": "3.10.6"
  },
  "orig_nbformat": 4,
  "vscode": {
   "interpreter": {
    "hash": "d4d1e4263499bec80672ea0156c357c1ee493ec2b1c70f0acce89fc37c4a6abe"
   }
  }
 },
 "nbformat": 4,
 "nbformat_minor": 2
}
