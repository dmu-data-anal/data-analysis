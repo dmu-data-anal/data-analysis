{
 "cells": [
  {
   "cell_type": "markdown",
   "metadata": {},
   "source": [
    "- 처음~2020.4월 : 거리두기 시작\n",
    "- 2020.5월 : 생활방역 전환\n",
    "- 2020.6월~8월 : 수도권 2단계\n",
    "- 2020.9월 : 2.5단계 강화\n",
    "- ~~2020.9월 : 거리두기 2단계로 하향~~\n",
    "- 2020.10월 : 1단계 하향\n",
    "- 2020.11월 : 정밀방역으로 세분화\n",
    "- 2020.12월 : 2단계 시행\n",
    "- ~~2020.12월 : 2.5단계 시행~~\n",
    "\n",
    "+ 2021.1월~2월 : 2.5단계, 조치 완화\n",
    "+ ~~2021.2월 : 2단계 완화~~\n",
    "+ 2021.3월~6월 : 거리두기 개편\n",
    "+ 2021.07월 거리두기 4단계\n",
    "\n",
    "- 2022.8월~4월?? : 거리두기 해제?"
   ]
  },
  {
   "cell_type": "code",
   "execution_count": null,
   "metadata": {},
   "outputs": [],
   "source": [
    "# 2020년 4월까지"
   ]
  },
  {
   "cell_type": "code",
   "execution_count": null,
   "metadata": {},
   "outputs": [],
   "source": [
    "# 2020년 6월에서 8월까지"
   ]
  },
  {
   "cell_type": "code",
   "execution_count": null,
   "metadata": {},
   "outputs": [],
   "source": [
    "# 2021년 1월에서 2월까지"
   ]
  },
  {
   "cell_type": "code",
   "execution_count": null,
   "metadata": {},
   "outputs": [],
   "source": [
    "# 2021년 3월에서 6월까지"
   ]
  }
 ],
 "metadata": {
  "kernelspec": {
   "display_name": "Python 3.10.6 ('base')",
   "language": "python",
   "name": "python3"
  },
  "language_info": {
   "name": "python",
   "version": "3.10.6"
  },
  "orig_nbformat": 4,
  "vscode": {
   "interpreter": {
    "hash": "d4d1e4263499bec80672ea0156c357c1ee493ec2b1c70f0acce89fc37c4a6abe"
   }
  }
 },
 "nbformat": 4,
 "nbformat_minor": 2
}
