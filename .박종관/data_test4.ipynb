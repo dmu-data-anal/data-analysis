{
 "cells": [
  {
   "cell_type": "code",
   "execution_count": 1,
   "metadata": {},
   "outputs": [],
   "source": [
    "import matplotlib.pyplot as plt\n",
    "import seaborn as sns\n",
    "import pandas as pd\n",
    "import numpy as np\n",
    "import csv\n",
    "import networkx as nx\n",
    "from pyvis.network import Network"
   ]
  },
  {
   "cell_type": "code",
   "execution_count": 2,
   "metadata": {},
   "outputs": [],
   "source": [
    "import os\n",
    "from matplotlib import font_manager as fm\n",
    "\n",
    "font_file = \"../fonts/NanumGothic/NanumGothic.ttf\"\n",
    "fm.fontManager.addfont(font_file)\n",
    "\n",
    "if os.name == 'posix':\n",
    "    # plt.rcParams['font.family'] = 'NanumGothic'\n",
    "    plt.rc('font', family='NanumGothic')\n",
    "elif os.name == 'nt': \n",
    "    plt.rc('font', family='Malgun Gothic')\n",
    "\n",
    "plt.rc('axes', unicode_minus=False)\n",
    "# plt.rcParams['axes.unicode_minus'] = False\n",
    "\n",
    "%config InlineBackend.figure_format = 'retina'"
   ]
  },
  {
   "cell_type": "code",
   "execution_count": null,
   "metadata": {},
   "outputs": [],
   "source": [
    "'''\n",
    "import pandas as pd\n",
    "import numpy as np\n",
    "import networkx as nx\n",
    "import matplotlib.pyplot as plt\n",
    "\n",
    "df = pd.DataFrame({'number':['123','234','345'],'contactnumber':['234','345','123'],'callduration':[1,2,4]})\n",
    "\n",
    "df\n",
    "\n",
    "G = nx.from_pandas_edgelist(df,'number','contactnumber', edge_attr='callduration')\n",
    "durations = [i['callduration'] for i in dict(G.edges).values()]\n",
    "labels = [i for i in dict(G.nodes).keys()]\n",
    "labels = {i:i for i in dict(G.nodes).keys()}\n",
    "\n",
    "fig, ax = plt.subplots(figsize=(12,5))\n",
    "pos = nx.spring_layout(G)\n",
    "nx.draw_networkx_nodes(G, pos, ax = ax, labels=True)\n",
    "nx.draw_networkx_edges(G, pos, width=durations, ax=ax)\n",
    "_ = nx.draw_networkx_labels(G, pos, labels, ax=ax)\n",
    "'''\n"
   ]
  },
  {
   "cell_type": "code",
   "execution_count": 3,
   "metadata": {},
   "outputs": [
    {
     "name": "stdout",
     "output_type": "stream",
     "text": [
      "{11010: '종로구', 11020: '중구', 11030: '용산구', 11040: '성동구', 11050: '광진구', 11060: '동대문구', 11070: '중랑구', 11080: '성북구', 11090: '강북구', 11100: '도봉구', 11110: '노원구', 11120: '은평구', 11130: '서대문구', 11140: '마포구', 11150: '양천구', 11160: '강서구', 11170: '구로구', 11180: '금천구', 11190: '영등포구', 11200: '동작구', 11210: '관악구', 11220: '서초구', 11230: '강남구', 11240: '송파구', 11250: '강동구'}\n",
      "          대상연월 요일  도착시간 출발 시군구 코드 도착 시군구 코드 성별  나이 이동유형  평균 이동 시간(분) 이동인구(합)\n",
      "224     202209  일     0       종로구        중구  F   0   EE          198   28.13\n",
      "225     202209  일     0       종로구        중구  F  10   EE           22    5.98\n",
      "226     202209  일     0       종로구        중구  F  15   EH           97   15.78\n",
      "227     202209  일     0       종로구        중구  F  15   EE           48   22.29\n",
      "228     202209  일     0       종로구        중구  F  15   HE           45    3.96\n",
      "...        ... ..   ...       ...       ... ..  ..  ...          ...     ...\n",
      "792718  202209  토     0       강동구       송파구  M  70   EW           41   13.91\n",
      "792719  202209  토     0       강동구       송파구  M  70   WE           21    4.64\n",
      "792720  202209  토     0       강동구       송파구  M  75   WH           39   17.83\n",
      "792721  202209  토     0       강동구       송파구  M  75   EH           26   11.92\n",
      "792722  202209  토     0       강동구       송파구  M  80   EH           55    9.45\n",
      "\n",
      "[279353 rows x 10 columns]\n",
      "279353\n"
     ]
    }
   ],
   "source": [
    "with open(\"../datasets/한국행정구역분류_행정동코드(서울).csv\",\n",
    "          encoding='cp949') as f:\n",
    "    data1 = pd.read_csv(f)\n",
    "    newdata = data1[['소분류','읍면동']]\n",
    "newdata\n",
    "\n",
    "with open(\"../large-datasets/생활이동_자치구_202209/생활이동_자치구_2022.09_00시.csv\",\n",
    "          encoding='cp949') as f:\n",
    "    data = pd.read_csv(f)\n",
    "    # l.append(data)\n",
    "#data = data.drop_duplicates(subset=['출발 시군구 코드', '도착 시군구 코드'],)\n",
    "data = data.drop(data[data['출발 시군구 코드'] == data['도착 시군구 코드']].index)\n",
    "data.loc[data['이동인구(합)'] == '*', '이동인구(합)'] = 0\n",
    "\n",
    "# tst = {key: value for key, value in zip(data1['소분류'], data1['시군구']+\" \"+data1['읍면동'])} # 이건 자치구용\n",
    "tst = {key:value for key,value in zip(data1['중분류'], data1['시군구'])}\n",
    "#tst = {11010:\"ㅁㄴㅇㄹ\"}\n",
    "print(tst)\n",
    "\n",
    "data = data.drop(data[data['출발 시군구 코드'].astype(int) > 11250].index)\n",
    "data = data.drop(data[data['도착 시군구 코드'].astype(int) > 11250].index)\n",
    "data = data.replace(tst)\n",
    "\n",
    "print(data)\n",
    "\n",
    "print(data['이동인구(합)'].size)\n",
    "\n",
    "## ok!\n",
    "\n"
   ]
  },
  {
   "cell_type": "code",
   "execution_count": 5,
   "metadata": {},
   "outputs": [
    {
     "ename": "KeyboardInterrupt",
     "evalue": "",
     "output_type": "error",
     "traceback": [
      "\u001b[0;31m---------------------------------------------------------------------------\u001b[0m",
      "\u001b[0;31mKeyboardInterrupt\u001b[0m                         Traceback (most recent call last)",
      "Cell \u001b[0;32mIn [5], line 1\u001b[0m\n\u001b[0;32m----> 1\u001b[0m plt\u001b[39m.\u001b[39;49mbarh(data[\u001b[39m'\u001b[39;49m\u001b[39m이동유형\u001b[39;49m\u001b[39m'\u001b[39;49m],data[\u001b[39m'\u001b[39;49m\u001b[39m도착 시군구 코드\u001b[39;49m\u001b[39m'\u001b[39;49m])\n\u001b[1;32m      2\u001b[0m plt\u001b[39m.\u001b[39mshow()\n",
      "File \u001b[0;32m/opt/conda/lib/python3.10/site-packages/matplotlib/pyplot.py:2385\u001b[0m, in \u001b[0;36mbarh\u001b[0;34m(y, width, height, left, align, data, **kwargs)\u001b[0m\n\u001b[1;32m   2381\u001b[0m \u001b[39m@_copy_docstring_and_deprecators\u001b[39m(Axes\u001b[39m.\u001b[39mbarh)\n\u001b[1;32m   2382\u001b[0m \u001b[39mdef\u001b[39;00m \u001b[39mbarh\u001b[39m(\n\u001b[1;32m   2383\u001b[0m         y, width, height\u001b[39m=\u001b[39m\u001b[39m0.8\u001b[39m, left\u001b[39m=\u001b[39m\u001b[39mNone\u001b[39;00m, \u001b[39m*\u001b[39m, align\u001b[39m=\u001b[39m\u001b[39m'\u001b[39m\u001b[39mcenter\u001b[39m\u001b[39m'\u001b[39m,\n\u001b[1;32m   2384\u001b[0m         data\u001b[39m=\u001b[39m\u001b[39mNone\u001b[39;00m, \u001b[39m*\u001b[39m\u001b[39m*\u001b[39mkwargs):\n\u001b[0;32m-> 2385\u001b[0m     \u001b[39mreturn\u001b[39;00m gca()\u001b[39m.\u001b[39;49mbarh(\n\u001b[1;32m   2386\u001b[0m         y, width, height\u001b[39m=\u001b[39;49mheight, left\u001b[39m=\u001b[39;49mleft, align\u001b[39m=\u001b[39;49malign,\n\u001b[1;32m   2387\u001b[0m         \u001b[39m*\u001b[39;49m\u001b[39m*\u001b[39;49m({\u001b[39m\"\u001b[39;49m\u001b[39mdata\u001b[39;49m\u001b[39m\"\u001b[39;49m: data} \u001b[39mif\u001b[39;49;00m data \u001b[39mis\u001b[39;49;00m \u001b[39mnot\u001b[39;49;00m \u001b[39mNone\u001b[39;49;00m \u001b[39melse\u001b[39;49;00m {}), \u001b[39m*\u001b[39;49m\u001b[39m*\u001b[39;49mkwargs)\n",
      "File \u001b[0;32m/opt/conda/lib/python3.10/site-packages/matplotlib/axes/_axes.py:2623\u001b[0m, in \u001b[0;36mAxes.barh\u001b[0;34m(self, y, width, height, left, align, data, **kwargs)\u001b[0m\n\u001b[1;32m   2513\u001b[0m \u001b[39mr\u001b[39m\u001b[39m\"\"\"\u001b[39;00m\n\u001b[1;32m   2514\u001b[0m \u001b[39mMake a horizontal bar plot.\u001b[39;00m\n\u001b[1;32m   2515\u001b[0m \n\u001b[0;32m   (...)\u001b[0m\n\u001b[1;32m   2620\u001b[0m \u001b[39m:doc:`/gallery/lines_bars_and_markers/horizontal_barchart_distribution`.\u001b[39;00m\n\u001b[1;32m   2621\u001b[0m \u001b[39m\"\"\"\u001b[39;00m\n\u001b[1;32m   2622\u001b[0m kwargs\u001b[39m.\u001b[39msetdefault(\u001b[39m'\u001b[39m\u001b[39morientation\u001b[39m\u001b[39m'\u001b[39m, \u001b[39m'\u001b[39m\u001b[39mhorizontal\u001b[39m\u001b[39m'\u001b[39m)\n\u001b[0;32m-> 2623\u001b[0m patches \u001b[39m=\u001b[39m \u001b[39mself\u001b[39;49m\u001b[39m.\u001b[39;49mbar(x\u001b[39m=\u001b[39;49mleft, height\u001b[39m=\u001b[39;49mheight, width\u001b[39m=\u001b[39;49mwidth, bottom\u001b[39m=\u001b[39;49my,\n\u001b[1;32m   2624\u001b[0m                    align\u001b[39m=\u001b[39;49malign, data\u001b[39m=\u001b[39;49mdata, \u001b[39m*\u001b[39;49m\u001b[39m*\u001b[39;49mkwargs)\n\u001b[1;32m   2625\u001b[0m \u001b[39mreturn\u001b[39;00m patches\n",
      "File \u001b[0;32m/opt/conda/lib/python3.10/site-packages/matplotlib/__init__.py:1423\u001b[0m, in \u001b[0;36m_preprocess_data.<locals>.inner\u001b[0;34m(ax, data, *args, **kwargs)\u001b[0m\n\u001b[1;32m   1420\u001b[0m \u001b[39m@functools\u001b[39m\u001b[39m.\u001b[39mwraps(func)\n\u001b[1;32m   1421\u001b[0m \u001b[39mdef\u001b[39;00m \u001b[39minner\u001b[39m(ax, \u001b[39m*\u001b[39margs, data\u001b[39m=\u001b[39m\u001b[39mNone\u001b[39;00m, \u001b[39m*\u001b[39m\u001b[39m*\u001b[39mkwargs):\n\u001b[1;32m   1422\u001b[0m     \u001b[39mif\u001b[39;00m data \u001b[39mis\u001b[39;00m \u001b[39mNone\u001b[39;00m:\n\u001b[0;32m-> 1423\u001b[0m         \u001b[39mreturn\u001b[39;00m func(ax, \u001b[39m*\u001b[39;49m\u001b[39mmap\u001b[39;49m(sanitize_sequence, args), \u001b[39m*\u001b[39;49m\u001b[39m*\u001b[39;49mkwargs)\n\u001b[1;32m   1425\u001b[0m     bound \u001b[39m=\u001b[39m new_sig\u001b[39m.\u001b[39mbind(ax, \u001b[39m*\u001b[39margs, \u001b[39m*\u001b[39m\u001b[39m*\u001b[39mkwargs)\n\u001b[1;32m   1426\u001b[0m     auto_label \u001b[39m=\u001b[39m (bound\u001b[39m.\u001b[39marguments\u001b[39m.\u001b[39mget(label_namer)\n\u001b[1;32m   1427\u001b[0m                   \u001b[39mor\u001b[39;00m bound\u001b[39m.\u001b[39mkwargs\u001b[39m.\u001b[39mget(label_namer))\n",
      "File \u001b[0;32m/opt/conda/lib/python3.10/site-packages/matplotlib/axes/_axes.py:2468\u001b[0m, in \u001b[0;36mAxes.bar\u001b[0;34m(self, x, height, width, bottom, align, **kwargs)\u001b[0m\n\u001b[1;32m   2466\u001b[0m     \u001b[39melse\u001b[39;00m:  \u001b[39m# horizontal\u001b[39;00m\n\u001b[1;32m   2467\u001b[0m         r\u001b[39m.\u001b[39msticky_edges\u001b[39m.\u001b[39mx\u001b[39m.\u001b[39mappend(l)\n\u001b[0;32m-> 2468\u001b[0m     \u001b[39mself\u001b[39;49m\u001b[39m.\u001b[39;49madd_patch(r)\n\u001b[1;32m   2469\u001b[0m     patches\u001b[39m.\u001b[39mappend(r)\n\u001b[1;32m   2471\u001b[0m \u001b[39mif\u001b[39;00m xerr \u001b[39mis\u001b[39;00m \u001b[39mnot\u001b[39;00m \u001b[39mNone\u001b[39;00m \u001b[39mor\u001b[39;00m yerr \u001b[39mis\u001b[39;00m \u001b[39mnot\u001b[39;00m \u001b[39mNone\u001b[39;00m:\n",
      "File \u001b[0;32m/opt/conda/lib/python3.10/site-packages/matplotlib/axes/_base.py:2415\u001b[0m, in \u001b[0;36m_AxesBase.add_patch\u001b[0;34m(self, p)\u001b[0m\n\u001b[1;32m   2413\u001b[0m \u001b[39mif\u001b[39;00m p\u001b[39m.\u001b[39mget_clip_path() \u001b[39mis\u001b[39;00m \u001b[39mNone\u001b[39;00m:\n\u001b[1;32m   2414\u001b[0m     p\u001b[39m.\u001b[39mset_clip_path(\u001b[39mself\u001b[39m\u001b[39m.\u001b[39mpatch)\n\u001b[0;32m-> 2415\u001b[0m \u001b[39mself\u001b[39;49m\u001b[39m.\u001b[39;49m_update_patch_limits(p)\n\u001b[1;32m   2416\u001b[0m \u001b[39mself\u001b[39m\u001b[39m.\u001b[39m_children\u001b[39m.\u001b[39mappend(p)\n\u001b[1;32m   2417\u001b[0m p\u001b[39m.\u001b[39m_remove_method \u001b[39m=\u001b[39m \u001b[39mself\u001b[39m\u001b[39m.\u001b[39m_children\u001b[39m.\u001b[39mremove\n",
      "File \u001b[0;32m/opt/conda/lib/python3.10/site-packages/matplotlib/axes/_base.py:2447\u001b[0m, in \u001b[0;36m_AxesBase._update_patch_limits\u001b[0;34m(self, patch)\u001b[0m\n\u001b[1;32m   2444\u001b[0m     vertices \u001b[39m=\u001b[39m np\u001b[39m.\u001b[39mrow_stack(vertices)\n\u001b[1;32m   2446\u001b[0m patch_trf \u001b[39m=\u001b[39m patch\u001b[39m.\u001b[39mget_transform()\n\u001b[0;32m-> 2447\u001b[0m updatex, updatey \u001b[39m=\u001b[39m patch_trf\u001b[39m.\u001b[39;49mcontains_branch_seperately(\u001b[39mself\u001b[39;49m\u001b[39m.\u001b[39;49mtransData)\n\u001b[1;32m   2448\u001b[0m \u001b[39mif\u001b[39;00m \u001b[39mnot\u001b[39;00m (updatex \u001b[39mor\u001b[39;00m updatey):\n\u001b[1;32m   2449\u001b[0m     \u001b[39mreturn\u001b[39;00m\n",
      "File \u001b[0;32m/opt/conda/lib/python3.10/site-packages/matplotlib/transforms.py:1411\u001b[0m, in \u001b[0;36mTransform.contains_branch_seperately\u001b[0;34m(self, other_transform)\u001b[0m\n\u001b[1;32m   1407\u001b[0m     \u001b[39mraise\u001b[39;00m \u001b[39mValueError\u001b[39;00m(\u001b[39m'\u001b[39m\u001b[39mcontains_branch_seperately only supports \u001b[39m\u001b[39m'\u001b[39m\n\u001b[1;32m   1408\u001b[0m                      \u001b[39m'\u001b[39m\u001b[39mtransforms with 2 output dimensions\u001b[39m\u001b[39m'\u001b[39m)\n\u001b[1;32m   1409\u001b[0m \u001b[39m# for a non-blended transform each separate dimension is the same, so\u001b[39;00m\n\u001b[1;32m   1410\u001b[0m \u001b[39m# just return the appropriate shape.\u001b[39;00m\n\u001b[0;32m-> 1411\u001b[0m \u001b[39mreturn\u001b[39;00m [\u001b[39mself\u001b[39;49m\u001b[39m.\u001b[39;49mcontains_branch(other_transform)] \u001b[39m*\u001b[39m \u001b[39m2\u001b[39m\n",
      "File \u001b[0;32m/opt/conda/lib/python3.10/site-packages/matplotlib/transforms.py:1390\u001b[0m, in \u001b[0;36mTransform.contains_branch\u001b[0;34m(self, other)\u001b[0m\n\u001b[1;32m   1387\u001b[0m     \u001b[39mreturn\u001b[39;00m \u001b[39mFalse\u001b[39;00m\n\u001b[1;32m   1389\u001b[0m \u001b[39m# check that a subtree is equal to other (starting from self)\u001b[39;00m\n\u001b[0;32m-> 1390\u001b[0m \u001b[39mfor\u001b[39;00m _, sub_tree \u001b[39min\u001b[39;00m \u001b[39mself\u001b[39m\u001b[39m.\u001b[39m_iter_break_from_left_to_right():\n\u001b[1;32m   1391\u001b[0m     \u001b[39mif\u001b[39;00m sub_tree \u001b[39m==\u001b[39m other:\n\u001b[1;32m   1392\u001b[0m         \u001b[39mreturn\u001b[39;00m \u001b[39mTrue\u001b[39;00m\n",
      "File \u001b[0;32m/opt/conda/lib/python3.10/site-packages/matplotlib/transforms.py:2405\u001b[0m, in \u001b[0;36mCompositeGenericTransform._iter_break_from_left_to_right\u001b[0;34m(self)\u001b[0m\n\u001b[1;32m   2403\u001b[0m \u001b[39mdef\u001b[39;00m \u001b[39m_iter_break_from_left_to_right\u001b[39m(\u001b[39mself\u001b[39m):\n\u001b[1;32m   2404\u001b[0m     \u001b[39mfor\u001b[39;00m left, right \u001b[39min\u001b[39;00m \u001b[39mself\u001b[39m\u001b[39m.\u001b[39m_a\u001b[39m.\u001b[39m_iter_break_from_left_to_right():\n\u001b[0;32m-> 2405\u001b[0m         \u001b[39myield\u001b[39;00m left, right \u001b[39m+\u001b[39;49m \u001b[39mself\u001b[39;49m\u001b[39m.\u001b[39;49m_b\n\u001b[1;32m   2406\u001b[0m     \u001b[39mfor\u001b[39;00m left, right \u001b[39min\u001b[39;00m \u001b[39mself\u001b[39m\u001b[39m.\u001b[39m_b\u001b[39m.\u001b[39m_iter_break_from_left_to_right():\n\u001b[1;32m   2407\u001b[0m         \u001b[39myield\u001b[39;00m \u001b[39mself\u001b[39m\u001b[39m.\u001b[39m_a \u001b[39m+\u001b[39m left, right\n",
      "File \u001b[0;32m/opt/conda/lib/python3.10/site-packages/matplotlib/transforms.py:1342\u001b[0m, in \u001b[0;36mTransform.__add__\u001b[0;34m(self, other)\u001b[0m\n\u001b[1;32m   1335\u001b[0m \u001b[39mdef\u001b[39;00m \u001b[39m__add__\u001b[39m(\u001b[39mself\u001b[39m, other):\n\u001b[1;32m   1336\u001b[0m     \u001b[39m\"\"\"\u001b[39;00m\n\u001b[1;32m   1337\u001b[0m \u001b[39m    Compose two transforms together so that *self* is followed by *other*.\u001b[39;00m\n\u001b[1;32m   1338\u001b[0m \n\u001b[1;32m   1339\u001b[0m \u001b[39m    ``A + B`` returns a transform ``C`` so that\u001b[39;00m\n\u001b[1;32m   1340\u001b[0m \u001b[39m    ``C.transform(x) == B.transform(A.transform(x))``.\u001b[39;00m\n\u001b[1;32m   1341\u001b[0m \u001b[39m    \"\"\"\u001b[39;00m\n\u001b[0;32m-> 1342\u001b[0m     \u001b[39mreturn\u001b[39;00m (composite_transform_factory(\u001b[39mself\u001b[39;49m, other)\n\u001b[1;32m   1343\u001b[0m             \u001b[39mif\u001b[39;00m \u001b[39misinstance\u001b[39m(other, Transform) \u001b[39melse\u001b[39;00m\n\u001b[1;32m   1344\u001b[0m             \u001b[39mNotImplemented\u001b[39m)\n",
      "File \u001b[0;32m/opt/conda/lib/python3.10/site-packages/matplotlib/transforms.py:2532\u001b[0m, in \u001b[0;36mcomposite_transform_factory\u001b[0;34m(a, b)\u001b[0m\n\u001b[1;32m   2530\u001b[0m \u001b[39melif\u001b[39;00m \u001b[39misinstance\u001b[39m(a, Affine2D) \u001b[39mand\u001b[39;00m \u001b[39misinstance\u001b[39m(b, Affine2D):\n\u001b[1;32m   2531\u001b[0m     \u001b[39mreturn\u001b[39;00m CompositeAffine2D(a, b)\n\u001b[0;32m-> 2532\u001b[0m \u001b[39mreturn\u001b[39;00m CompositeGenericTransform(a, b)\n",
      "File \u001b[0;32m/opt/conda/lib/python3.10/site-packages/matplotlib/transforms.py:2370\u001b[0m, in \u001b[0;36mCompositeGenericTransform.__init__\u001b[0;34m(self, a, b, **kwargs)\u001b[0m\n\u001b[1;32m   2368\u001b[0m \u001b[39mself\u001b[39m\u001b[39m.\u001b[39m_a \u001b[39m=\u001b[39m a\n\u001b[1;32m   2369\u001b[0m \u001b[39mself\u001b[39m\u001b[39m.\u001b[39m_b \u001b[39m=\u001b[39m b\n\u001b[0;32m-> 2370\u001b[0m \u001b[39mself\u001b[39;49m\u001b[39m.\u001b[39;49mset_children(a, b)\n",
      "File \u001b[0;32m/opt/conda/lib/python3.10/site-packages/matplotlib/transforms.py:209\u001b[0m, in \u001b[0;36mTransformNode.set_children\u001b[0;34m(self, *children)\u001b[0m\n\u001b[1;32m    201\u001b[0m \u001b[39m# Parents are stored as weak references, so that if the\u001b[39;00m\n\u001b[1;32m    202\u001b[0m \u001b[39m# parents are destroyed, references from the children won't\u001b[39;00m\n\u001b[1;32m    203\u001b[0m \u001b[39m# keep them alive.\u001b[39;00m\n\u001b[1;32m    204\u001b[0m \u001b[39mfor\u001b[39;00m child \u001b[39min\u001b[39;00m children:\n\u001b[1;32m    205\u001b[0m     \u001b[39m# Use weak references so this dictionary won't keep obsolete nodes\u001b[39;00m\n\u001b[1;32m    206\u001b[0m     \u001b[39m# alive; the callback deletes the dictionary entry. This is a\u001b[39;00m\n\u001b[1;32m    207\u001b[0m     \u001b[39m# performance improvement over using WeakValueDictionary.\u001b[39;00m\n\u001b[1;32m    208\u001b[0m     ref \u001b[39m=\u001b[39m weakref\u001b[39m.\u001b[39mref(\n\u001b[0;32m--> 209\u001b[0m         \u001b[39mself\u001b[39m, \u001b[39mlambda\u001b[39;00m _, pop\u001b[39m=\u001b[39mchild\u001b[39m.\u001b[39m_parents\u001b[39m.\u001b[39mpop, k\u001b[39m=\u001b[39m\u001b[39mid\u001b[39;49m(\u001b[39mself\u001b[39;49m): pop(k))\n\u001b[1;32m    210\u001b[0m     child\u001b[39m.\u001b[39m_parents[\u001b[39mid\u001b[39m(\u001b[39mself\u001b[39m)] \u001b[39m=\u001b[39m ref\n",
      "\u001b[0;31mKeyboardInterrupt\u001b[0m: "
     ]
    }
   ],
   "source": [
    "plt.barh(data['이동유형'],data['도착 시군구 코드'])\n",
    "plt.show()\n",
    "# 안돼 이럼 더 오래 걸린다아"
   ]
  },
  {
   "cell_type": "markdown",
   "metadata": {},
   "source": [
    "### 계획"
   ]
  },
  {
   "cell_type": "code",
   "execution_count": null,
   "metadata": {},
   "outputs": [],
   "source": [
    "## 진짜 탑텐만 뽑은거 여기다 하고 막대기로 만들자\n",
    "# 으으 머리야 능률교과서\n",
    "\n",
    "# 1. data head 10 기준을 하되, 같은 출발시군구는 다 합쳐서..\n",
    "# 2. 어어.. 출발 도착을 어떻게 할까 고민해보자\n",
    "# 4. \n",
    "# df2 = df.groupby(['address']).sum() 이런걸 쓰보자\n"
   ]
  },
  {
   "cell_type": "markdown",
   "metadata": {},
   "source": [
    "```\n",
    "혹시 월별 \n",
    "(출발 - 도착)이나 \n",
    "(도착) \n",
    "유동인구 많은 자치구 그래프와 top 10까지 \n",
    "내일까지 그리고, 분석해 줄 수 있어?\n",
    "```\n",
    "bar, 출발-도착이 루프가 있는거 제외하고\n",
    "중복을 지우면 곤란하다 중복된거까지 '이동인구(합)' 을 각각 합계에 넣어야 한다\n",
    "\n",
    "\n",
    "\n",
    "그 서울 이외의 코드가 정확하지 않으면 싹뭉탱이로 '외부'라고 하자\n",
    "\n",
    "\n",
    "\n",
    "\n",
    "\n",
    "```\n",
    "(출발-도착)이 너무 많으면\n",
    "\n",
    "자치구별 총 도착 인구 그래프그리고 분석해도 좋을거같네\n",
    "```\n",
    "\n",
    "일단 해보고 나면 \n",
    "성별\t나이 도 어떻게 활용해볼까 ㄱㄱ"
   ]
  },
  {
   "cell_type": "code",
   "execution_count": null,
   "metadata": {},
   "outputs": [],
   "source": [
    "graph = nx.from_pandas_edgelist(data,\n",
    "                                source='출발 시군구 코드',\n",
    "                                target='도착 시군구 코드',\n",
    "                                edge_attr='이동인구(합)',\n",
    "                                create_using=nx.DiGraph())\n",
    "\n",
    "#for node in graph:\n",
    "\n",
    "import random\n",
    "\n",
    "\n",
    "an = data['도착 시군구 코드']\n",
    "an = an.drop_duplicates()\n",
    "print(an)\n",
    "color = [\n",
    "    \"#\" + ''.join([random.choice('0123456789ABCDEF') for j in range(6)])\n",
    "    for i in range(an.size)\n",
    "]\n",
    "print(color)\n",
    "# pos = nx.spring_layout(graph)\n",
    "# nx.draw_networkx_nodes(graph, pos, node_color=color,)\n",
    "# nx.draw_networkx_edges(graph, pos, width=0.01,)\n",
    "#nx.draw(graph, with_labels=False, node_color=color,pos=nx.fruchterman_reingold_layout(graph),node_size=7, arrows=False, width=0.001,)\n",
    "edge_labels = nx.get_edge_attributes(graph, \"이동인구(합)\")\n",
    "nx.draw(graph,\n",
    "        with_labels=True,\n",
    "        node_color=color,\n",
    "        node_size=7,\n",
    "        arrows=False,\n",
    "        width=0.1,\n",
    "        font_family='NanumGothic',\n",
    "        pos=nx.spring_layout(graph))\n",
    "\n",
    "plt.title(\"ㅁㄴㅇㄹ\")\n",
    "plt.axis('off')\n",
    "plt.show()\n",
    "\n",
    "# 그래프 html 출력\n",
    "# nt = Network(height='1080px', width='80%',)\n",
    "\n",
    "\n",
    "# nt.from_nx(graph)\n",
    "# nt.toggle_physics(False)\n",
    "# nt.show_buttons(filter_=['physics'])\n",
    "# nt.show('../results/res1.html')\n"
   ]
  },
  {
   "cell_type": "markdown",
   "metadata": {},
   "source": [
    "# 이 파일에서는 어떤 곳이 유동인구가 많은지 그랲 그리지 말고 텍스트로 판별을 내볼 생각에요."
   ]
  }
 ],
 "metadata": {
  "kernelspec": {
   "display_name": "Python 3.10.6 ('base')",
   "language": "python",
   "name": "python3"
  },
  "language_info": {
   "codemirror_mode": {
    "name": "ipython",
    "version": 3
   },
   "file_extension": ".py",
   "mimetype": "text/x-python",
   "name": "python",
   "nbconvert_exporter": "python",
   "pygments_lexer": "ipython3",
   "version": "3.10.6"
  },
  "orig_nbformat": 4,
  "vscode": {
   "interpreter": {
    "hash": "d4d1e4263499bec80672ea0156c357c1ee493ec2b1c70f0acce89fc37c4a6abe"
   }
  }
 },
 "nbformat": 4,
 "nbformat_minor": 2
}
