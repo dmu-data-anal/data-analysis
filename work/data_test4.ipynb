{
 "cells": [
  {
   "cell_type": "code",
   "execution_count": 1,
   "metadata": {},
   "outputs": [],
   "source": [
    "import matplotlib.pyplot as plt\n",
    "import seaborn as sns\n",
    "import pandas as pd\n",
    "import numpy as np\n",
    "import csv\n",
    "import networkx as nx\n",
    "from pyvis.network import Network"
   ]
  },
  {
   "cell_type": "code",
   "execution_count": 2,
   "metadata": {},
   "outputs": [],
   "source": [
    "import os\n",
    "from matplotlib import font_manager as fm\n",
    "\n",
    "font_file = \"../fonts/NanumGothic/NanumGothic.ttf\"\n",
    "fm.fontManager.addfont(font_file)\n",
    "\n",
    "if os.name == 'posix':\n",
    "    # plt.rcParams['font.family'] = 'NanumGothic'\n",
    "    plt.rc('font', family='NanumGothic')\n",
    "elif os.name == 'nt': \n",
    "    plt.rc('font', family='Malgun Gothic')\n",
    "\n",
    "plt.rc('axes', unicode_minus=False)\n",
    "# plt.rcParams['axes.unicode_minus'] = False\n",
    "\n",
    "%config InlineBackend.figure_format = 'retina'"
   ]
  },
  {
   "cell_type": "code",
   "execution_count": null,
   "metadata": {},
   "outputs": [],
   "source": [
    "'''\n",
    "import pandas as pd\n",
    "import numpy as np\n",
    "import networkx as nx\n",
    "import matplotlib.pyplot as plt\n",
    "\n",
    "df = pd.DataFrame({'number':['123','234','345'],'contactnumber':['234','345','123'],'callduration':[1,2,4]})\n",
    "\n",
    "df\n",
    "\n",
    "G = nx.from_pandas_edgelist(df,'number','contactnumber', edge_attr='callduration')\n",
    "durations = [i['callduration'] for i in dict(G.edges).values()]\n",
    "labels = [i for i in dict(G.nodes).keys()]\n",
    "labels = {i:i for i in dict(G.nodes).keys()}\n",
    "\n",
    "fig, ax = plt.subplots(figsize=(12,5))\n",
    "pos = nx.spring_layout(G)\n",
    "nx.draw_networkx_nodes(G, pos, ax = ax, labels=True)\n",
    "nx.draw_networkx_edges(G, pos, width=durations, ax=ax)\n",
    "_ = nx.draw_networkx_labels(G, pos, labels, ax=ax)\n",
    "'''\n"
   ]
  },
  {
   "cell_type": "markdown",
   "metadata": {},
   "source": [
    "# 이 파일에서는 어떤 곳이 유동인구가 많은지 그랲 그리지 말고 텍스트로 판별을 내볼 생각에요."
   ]
  }
 ],
 "metadata": {
  "kernelspec": {
   "display_name": "Python 3.10.6 ('base')",
   "language": "python",
   "name": "python3"
  },
  "language_info": {
   "codemirror_mode": {
    "name": "ipython",
    "version": 3
   },
   "file_extension": ".py",
   "mimetype": "text/x-python",
   "name": "python",
   "nbconvert_exporter": "python",
   "pygments_lexer": "ipython3",
   "version": "3.10.6"
  },
  "orig_nbformat": 4,
  "vscode": {
   "interpreter": {
    "hash": "d4d1e4263499bec80672ea0156c357c1ee493ec2b1c70f0acce89fc37c4a6abe"
   }
  }
 },
 "nbformat": 4,
 "nbformat_minor": 2
}
