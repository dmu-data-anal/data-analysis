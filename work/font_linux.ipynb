{
 "cells": [
  {
   "cell_type": "code",
   "execution_count": 1,
   "metadata": {},
   "outputs": [
    {
     "data": {
      "text/plain": [
       "['/usr/share/fonts/opentype/urw-base35/NimbusRoman-Regular.otf',\n",
       " '/opt/conda/fonts/SourceCodePro-Medium.ttf',\n",
       " '/usr/share/fonts/truetype/dejavu/DejaVuSansMono-BoldOblique.ttf',\n",
       " '/usr/share/fonts/opentype/urw-base35/P052-Bold.otf',\n",
       " '/opt/conda/fonts/Inconsolata-Bold.ttf',\n",
       " '/opt/conda/fonts/SourceCodePro-SemiboldIt.ttf',\n",
       " '/usr/share/fonts/truetype/liberation/LiberationSerif-Italic.ttf',\n",
       " '/usr/share/fonts/opentype/urw-base35/NimbusSans-Bold.otf',\n",
       " '/usr/share/fonts/opentype/urw-base35/P052-Italic.otf',\n",
       " '/opt/conda/fonts/Inconsolata-Regular.ttf',\n",
       " '/opt/conda/fonts/SourceCodePro-Semibold.ttf',\n",
       " '/usr/share/fonts/truetype/liberation/LiberationMono-Bold.ttf',\n",
       " '/opt/conda/fonts/Ubuntu-C.ttf',\n",
       " '/usr/share/fonts/truetype/dejavu/DejaVuSansCondensed.ttf',\n",
       " '/opt/conda/fonts/Ubuntu-RI.ttf',\n",
       " '/opt/conda/fonts/Ubuntu-R.ttf',\n",
       " '/usr/share/fonts/opentype/urw-base35/NimbusRoman-Bold.otf',\n",
       " '/opt/conda/fonts/Ubuntu-LI.ttf',\n",
       " '/usr/share/fonts/truetype/liberation/LiberationSansNarrow-Regular.ttf',\n",
       " '/usr/share/fonts/opentype/urw-base35/P052-BoldItalic.otf',\n",
       " '/usr/share/fonts/opentype/urw-base35/StandardSymbolsPS.otf',\n",
       " '/usr/share/fonts/opentype/urw-base35/C059-Italic.otf',\n",
       " '/usr/share/fonts/truetype/dejavu/DejaVuSansMono.ttf',\n",
       " '/usr/share/fonts/opentype/urw-base35/Z003-MediumItalic.otf',\n",
       " '/usr/share/fonts/truetype/liberation/LiberationMono-Italic.ttf',\n",
       " '/usr/share/fonts/truetype/liberation/LiberationSans-Bold.ttf',\n",
       " '/opt/conda/fonts/Ubuntu-Th.ttf',\n",
       " '/usr/share/fonts/truetype/dejavu/DejaVuSerif.ttf',\n",
       " '/usr/share/fonts/opentype/urw-base35/URWBookman-LightItalic.otf',\n",
       " '/usr/share/fonts/truetype/liberation/LiberationSans-Italic.ttf',\n",
       " '/usr/share/fonts/truetype/liberation/LiberationSerif-Regular.ttf',\n",
       " '/opt/conda/fonts/Ubuntu-MI.ttf',\n",
       " '/usr/share/fonts/opentype/urw-base35/NimbusSans-BoldItalic.otf',\n",
       " '/usr/share/fonts/truetype/dejavu/DejaVuSansMono-Oblique.ttf',\n",
       " '/usr/share/fonts/truetype/dejavu/DejaVuSerifCondensed-Bold.ttf',\n",
       " '/usr/share/fonts/truetype/dejavu/DejaVuSans-Oblique.ttf',\n",
       " '/opt/conda/fonts/UbuntuMono-BI.ttf',\n",
       " '/usr/share/fonts/opentype/urw-base35/NimbusMonoPS-Regular.otf',\n",
       " '/opt/conda/fonts/SourceCodePro-Light.ttf',\n",
       " '/opt/conda/fonts/UbuntuMono-R.ttf',\n",
       " '/usr/share/fonts/truetype/dejavu/DejaVuSerifCondensed-Italic.ttf',\n",
       " '/usr/share/fonts/opentype/urw-base35/URWBookman-Demi.otf',\n",
       " '/usr/share/fonts/opentype/urw-base35/NimbusRoman-BoldItalic.otf',\n",
       " '/opt/conda/fonts/SourceCodePro-Bold.ttf',\n",
       " '/usr/share/fonts/opentype/urw-base35/URWGothic-Demi.otf',\n",
       " '/usr/share/fonts/opentype/urw-base35/URWGothic-Book.otf',\n",
       " '/usr/share/fonts/truetype/dejavu/DejaVuSansCondensed-Oblique.ttf',\n",
       " '/opt/conda/fonts/SourceCodePro-Regular.ttf',\n",
       " '/usr/share/fonts/truetype/dejavu/DejaVuSansMono-Bold.ttf',\n",
       " '/usr/share/fonts/opentype/urw-base35/NimbusSansNarrow-BoldOblique.otf',\n",
       " '/opt/conda/fonts/UbuntuMono-B.ttf',\n",
       " '/usr/share/fonts/truetype/liberation/LiberationMono-BoldItalic.ttf',\n",
       " '/opt/conda/fonts/Ubuntu-BI.ttf',\n",
       " '/usr/share/fonts/opentype/urw-base35/URWGothic-BookOblique.otf',\n",
       " '/usr/share/fonts/opentype/urw-base35/NimbusSans-Italic.otf',\n",
       " '/usr/share/fonts/opentype/urw-base35/NimbusSansNarrow-Oblique.otf',\n",
       " '/usr/share/fonts/opentype/urw-base35/C059-Roman.otf',\n",
       " '/opt/conda/fonts/Ubuntu-B.ttf',\n",
       " '/usr/share/fonts/truetype/liberation/LiberationSans-BoldItalic.ttf',\n",
       " '/usr/share/fonts/truetype/dejavu/DejaVuSans-BoldOblique.ttf',\n",
       " '/usr/share/fonts/truetype/liberation/LiberationSansNarrow-BoldItalic.ttf',\n",
       " '/usr/share/fonts/truetype/dejavu/DejaVuSerif-Bold.ttf',\n",
       " '/opt/conda/fonts/SourceCodePro-Black.ttf',\n",
       " '/opt/conda/fonts/SourceCodePro-LightIt.ttf',\n",
       " '/opt/conda/fonts/Ubuntu-L.ttf',\n",
       " '/usr/share/fonts/opentype/urw-base35/URWBookman-DemiItalic.otf',\n",
       " '/usr/share/fonts/truetype/dejavu/DejaVuSans.ttf',\n",
       " '/usr/share/fonts/truetype/liberation/LiberationSansNarrow-Italic.ttf',\n",
       " '/usr/share/fonts/truetype/liberation/LiberationMono-Regular.ttf',\n",
       " '/opt/conda/fonts/SourceCodePro-ExtraLightIt.ttf',\n",
       " '/usr/share/fonts/opentype/urw-base35/P052-Roman.otf',\n",
       " '/usr/share/fonts/opentype/urw-base35/NimbusSansNarrow-Bold.otf',\n",
       " '/usr/share/fonts/truetype/dejavu/DejaVuSerifCondensed.ttf',\n",
       " '/usr/share/fonts/opentype/urw-base35/NimbusMonoPS-Italic.otf',\n",
       " '/usr/share/fonts/opentype/urw-base35/URWGothic-DemiOblique.otf',\n",
       " '/usr/share/fonts/truetype/dejavu/DejaVuSans-ExtraLight.ttf',\n",
       " '/usr/share/fonts/truetype/dejavu/DejaVuSansCondensed-Bold.ttf',\n",
       " '/usr/share/fonts/truetype/dejavu/DejaVuSerifCondensed-BoldItalic.ttf',\n",
       " '/opt/conda/fonts/SourceCodePro-It.ttf',\n",
       " '/opt/conda/fonts/SourceCodePro-MediumIt.ttf',\n",
       " '/usr/share/fonts/truetype/dejavu/DejaVuSerif-Italic.ttf',\n",
       " '/usr/share/fonts/opentype/urw-base35/NimbusMonoPS-BoldItalic.otf',\n",
       " '/opt/conda/fonts/UbuntuMono-RI.ttf',\n",
       " '/opt/conda/fonts/SourceCodePro-BoldIt.ttf',\n",
       " '/usr/share/fonts/opentype/urw-base35/URWBookman-Light.otf',\n",
       " '/usr/share/fonts/opentype/urw-base35/NimbusRoman-Italic.otf',\n",
       " '/usr/share/fonts/opentype/urw-base35/C059-Bold.otf',\n",
       " '/usr/share/fonts/opentype/urw-base35/NimbusMonoPS-Bold.otf',\n",
       " '/usr/share/fonts/truetype/dejavu/DejaVuMathTeXGyre.ttf',\n",
       " '/usr/share/fonts/opentype/urw-base35/NimbusSans-Regular.otf',\n",
       " '/opt/conda/fonts/DejaVuSans.ttf',\n",
       " '/usr/share/fonts/truetype/dejavu/DejaVuSans-Bold.ttf',\n",
       " '/opt/conda/fonts/Ubuntu-M.ttf',\n",
       " '/usr/share/fonts/truetype/dejavu/DejaVuSerif-BoldItalic.ttf',\n",
       " '/usr/share/fonts/opentype/urw-base35/D050000L.otf',\n",
       " '/usr/share/fonts/opentype/urw-base35/C059-BdIta.otf',\n",
       " '/usr/share/fonts/truetype/liberation/LiberationSerif-BoldItalic.ttf',\n",
       " '/opt/conda/fonts/SourceCodePro-ExtraLight.ttf',\n",
       " '/opt/conda/fonts/SourceCodePro-BlackIt.ttf',\n",
       " '/usr/share/fonts/truetype/liberation/LiberationSansNarrow-Bold.ttf',\n",
       " '/usr/share/fonts/opentype/urw-base35/NimbusSansNarrow-Regular.otf',\n",
       " '/usr/share/fonts/truetype/liberation/LiberationSans-Regular.ttf',\n",
       " '/usr/share/fonts/truetype/dejavu/DejaVuSansCondensed-BoldOblique.ttf',\n",
       " '/usr/share/fonts/truetype/liberation/LiberationSerif-Bold.ttf']"
      ]
     },
     "execution_count": 1,
     "metadata": {},
     "output_type": "execute_result"
    }
   ],
   "source": [
    "import matplotlib.font_manager as fm\n",
    "\n",
    "font_list = fm.findSystemFonts(fontpaths = None, fontext = 'ttf')\n",
    "font_list[:]"
   ]
  },
  {
   "cell_type": "code",
   "execution_count": null,
   "metadata": {},
   "outputs": [],
   "source": [
    "import matplotlib.font_manager\n",
    "\n",
    "font_list = matplotlib.font_manager.findSystemFonts(fontpaths=None,\n",
    "                                                    fontext='ttf')\n",
    "[\n",
    "    matplotlib.font_manager.FontProperties(fname=font).get_name()\n",
    "    for font in font_list if 'Nanum' in font\n",
    "]\n",
    "\n",
    "font_path = Path('../fonts/NanumGothic/NanumGothic.ttf')\n",
    "fontprop = fm.FontProperties(fname=font_path, size=10)"
   ]
  },
  {
   "cell_type": "code",
   "execution_count": 7,
   "metadata": {},
   "outputs": [
    {
     "name": "stdout",
     "output_type": "stream",
     "text": [
      "/opt/conda/lib/python3.10/site-packages/matplotlib/mpl-data/matplotlibrc\n"
     ]
    }
   ],
   "source": [
    "import matplotlib.font_manager as fm\n",
    "font_list = fm.findSystemFonts(fontpaths=None, fontext='ttf')\n",
    "print(matplotlib.matplotlib_fname())\n",
    "\n",
    "# add many fonts\n",
    "# font_dirs = ['path/to/font/']\n",
    "# font_files = font_manager.findSystemFonts(fontpaths=font_dirs)\n",
    "\n",
    "# add single font\n",
    "font_file = \"../fonts/NanumGothic/NanumGothic.ttf\"\n",
    "fm.fontManager.addfont(font_file)\n",
    "\n",
    "# #방법 2\n",
    "# import matplotlib.pyplot as plt\n",
    "\n",
    "# plt.rc('font', family='NanumMyeongjoOTF') # For MacOS\n",
    "# print(plt.rcParams['font.family'])\n",
    "\n",
    "# plt.rc('font', family='NanumMyeongjo') # For Windows\n",
    "# print(plt.rcParams['font.family'])"
   ]
  }
 ],
 "metadata": {
  "kernelspec": {
   "display_name": "Python 3.10.6 ('base')",
   "language": "python",
   "name": "python3"
  },
  "language_info": {
   "codemirror_mode": {
    "name": "ipython",
    "version": 3
   },
   "file_extension": ".py",
   "mimetype": "text/x-python",
   "name": "python",
   "nbconvert_exporter": "python",
   "pygments_lexer": "ipython3",
   "version": "3.10.6"
  },
  "orig_nbformat": 4,
  "vscode": {
   "interpreter": {
    "hash": "d4d1e4263499bec80672ea0156c357c1ee493ec2b1c70f0acce89fc37c4a6abe"
   }
  }
 },
 "nbformat": 4,
 "nbformat_minor": 2
}
