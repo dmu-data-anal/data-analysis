{
 "cells": [
  {
   "cell_type": "code",
   "execution_count": null,
   "metadata": {},
   "outputs": [],
   "source": [
    "'''\n",
    "import pandas as pd\n",
    "import numpy as np\n",
    "import networkx as nx\n",
    "import matplotlib.pyplot as plt\n",
    "\n",
    "df = pd.DataFrame({'number':['123','234','345'],'contactnumber':['234','345','123'],'callduration':[1,2,4]})\n",
    "\n",
    "df\n",
    "\n",
    "G = nx.from_pandas_edgelist(df,'number','contactnumber', edge_attr='callduration')\n",
    "durations = [i['callduration'] for i in dict(G.edges).values()]\n",
    "labels = [i for i in dict(G.nodes).keys()]\n",
    "labels = {i:i for i in dict(G.nodes).keys()}\n",
    "\n",
    "fig, ax = plt.subplots(figsize=(12,5))\n",
    "pos = nx.spring_layout(G)\n",
    "nx.draw_networkx_nodes(G, pos, ax = ax, labels=True)\n",
    "nx.draw_networkx_edges(G, pos, width=durations, ax=ax)\n",
    "_ = nx.draw_networkx_labels(G, pos, labels, ax=ax)\n",
    "'''"
   ]
  }
 ],
 "metadata": {
  "language_info": {
   "name": "python"
  },
  "orig_nbformat": 4
 },
 "nbformat": 4,
 "nbformat_minor": 2
}
