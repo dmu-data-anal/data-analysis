{
 "cells": [
  {
   "cell_type": "code",
   "execution_count": null,
   "metadata": {},
   "outputs": [],
   "source": [
    "# 하고싶은거 대하여 \n",
    "'''\n",
    "~~3. 유동인구가 많이 몰린 곳을 하나만 뽑아서 코로나 확진 수랑 관계 있는가를 보자!~~\n",
    "3. 코로나 확진이 많은 곳이 유동인구수 분석 1개 \n",
    "   거꾸로 유동인구수가 많은 곳의 코로나 확진을 분석 1개\n",
    "   이렇게 총 2개를 분석하는 거\n",
    "'''\n",
    "\n",
    "# "
   ]
  },
  {
   "cell_type": "markdown",
   "metadata": {},
   "source": [
    "# 이 파일에서는 코로나 확진자수가 가장 많은 지역구를 골라 볼게용"
   ]
  },
  {
   "cell_type": "code",
   "execution_count": null,
   "metadata": {},
   "outputs": [],
   "source": []
  }
 ],
 "metadata": {
  "kernelspec": {
   "display_name": "Python 3 (ipykernel)",
   "language": "python",
   "name": "python3"
  },
  "language_info": {
   "codemirror_mode": {
    "name": "ipython",
    "version": 3
   },
   "file_extension": ".py",
   "mimetype": "text/x-python",
   "name": "python",
   "nbconvert_exporter": "python",
   "pygments_lexer": "ipython3",
   "version": "3.10.6"
  },
  "vscode": {
   "interpreter": {
    "hash": "d4d1e4263499bec80672ea0156c357c1ee493ec2b1c70f0acce89fc37c4a6abe"
   }
  }
 },
 "nbformat": 4,
 "nbformat_minor": 4
}
